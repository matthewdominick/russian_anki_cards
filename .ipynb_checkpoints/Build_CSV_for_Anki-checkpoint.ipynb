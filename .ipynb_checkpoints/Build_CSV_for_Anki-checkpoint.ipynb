{
 "cells": [
  {
   "cell_type": "code",
   "execution_count": 2,
   "metadata": {
    "collapsed": true
   },
   "outputs": [],
   "source": [
    "import csv\n",
    "import requests\n",
    "from bs4 import BeautifulSoup"
   ]
  },
  {
   "cell_type": "code",
   "execution_count": 3,
   "metadata": {
    "collapsed": true
   },
   "outputs": [],
   "source": [
    "filename = 'Lesson2_Page3_nouns.csv'"
   ]
  },
  {
   "cell_type": "code",
   "execution_count": 4,
   "metadata": {},
   "outputs": [],
   "source": [
    "russian_words=[]\n",
    "with open(filename, newline='') as csvfile:\n",
    "    word_reader = csv.reader(csvfile, delimiter=' ', quotechar='|')\n",
    "    for row in word_reader:\n",
    "        #print(''.join(row))\n",
    "        russian_words.extend(row)\n",
    "        #print(len(row))\n",
    "        #print(row)\n"
   ]
  },
  {
   "cell_type": "code",
   "execution_count": 7,
   "metadata": {},
   "outputs": [
    {
     "name": "stdout",
     "output_type": "stream",
     "text": [
      "200\n",
      "памятник,monument- memorial- tombstone- statue\n",
      "200\n",
      "галерея,gallery\n",
      "200\n",
      "музей,museum\n",
      "200\n",
      "выставка,exhibition- show- exposition- display- show-window- window\n",
      "200\n",
      "церковь,church\n",
      "200\n",
      "школа,school- schoolhouse\n",
      "200\n",
      "университет,university\n",
      "200\n",
      "факультет,faculty- department\n",
      "200\n",
      "кафедра,chair- rostrum- pulpit- department- sub-faculty\n",
      "200\n",
      "профессор,professor\n",
      "200\n",
      "студентка,female student\n",
      "200\n",
      "студент,student\n",
      "200\n",
      "занятие,occupation- pursuit- employment- work- business- seizure- studies- lessons- pastime\n",
      "200\n",
      "лекция,lecture\n",
      "200\n",
      "библиотека,library- lending library- reference library\n",
      "200\n",
      "столовая,dining-room- dining-hall- mess\n",
      "200\n",
      "общежитие,dormitory- hostel- society- community- communal life\n",
      "200\n",
      "математика,mathematics\n",
      "200\n",
      "литература,literature\n",
      "200\n",
      "химия,chemistry\n",
      "200\n",
      "лингвистика,linguistics\n",
      "200\n",
      "история,history- story- event\n",
      "200\n",
      "искусство,art- skill- proficiency- craftsmanship\n",
      "200\n",
      "физика,physics\n"
     ]
    }
   ],
   "source": [
    "i=0\n",
    "target = open(output.csv, 'w')\n",
    "target.truncate() #delete contents of file if it exists\n",
    "for words in russian_words:\n",
    "    url = 'https://en.openrussian.org/ru/' + str(russian_words[i])\n",
    "    #print(url)\n",
    "    page = requests.get(url)\n",
    "    # Need to do some error checking if the word is not on openrussian, 200 is good, else bad\n",
    "    #print (page.status_code)\n",
    "    soup = BeautifulSoup(page.text, 'html.parser')\n",
    "    englishTranslation = soup.find_all(class_=['editable'])[0].getText()\n",
    "    englishTranslation=englishTranslation.strip('\\n').strip('1.').strip()\n",
    "    englishTranslation = englishTranslation.replace(\",\", \" -\")\n",
    "    print (russian_words[i]+\",\"+englishTranslation)\n",
    "    target.write(russian_words[i]+\",\"+englishTranslation)\n",
    "    target.write(\"\\n\")\n",
    "    #print (englishTranslation)\n",
    "    i=i+1"
   ]
  },
  {
   "cell_type": "code",
   "execution_count": 29,
   "metadata": {
    "collapsed": true
   },
   "outputs": [],
   "source": [
    "# Need to do some error checking if the word is not on openrussian, 200 is good, else bad\n",
    "page.status_code\n",
    "#\n",
    "soup = BeautifulSoup(page.text, 'html.parser')"
   ]
  },
  {
   "cell_type": "code",
   "execution_count": 30,
   "metadata": {},
   "outputs": [
    {
     "data": {
      "text/plain": [
       "[<audio data-needs-pro=\"false\" preload=\"none\" src=\"https://openrussian.org/audio-shtooka/физика.mp3\"></audio>]"
      ]
     },
     "execution_count": 30,
     "metadata": {},
     "output_type": "execute_result"
    }
   ],
   "source": [
    "soup.find_all('audio')\n",
    "#need to strip audio url"
   ]
  },
  {
   "cell_type": "code",
   "execution_count": 31,
   "metadata": {
    "collapsed": true
   },
   "outputs": [],
   "source": [
    "#It just so happens the first (zeroth) editable block is the translation\n",
    "englishTranslation = soup.find_all(class_=['editable'])[0].getText()"
   ]
  },
  {
   "cell_type": "code",
   "execution_count": 125,
   "metadata": {},
   "outputs": [
    {
     "name": "stdout",
     "output_type": "stream",
     "text": [
      "gallery\n"
     ]
    }
   ],
   "source": [
    " #This is not elegant and will not handle more than one translation.  \n",
    "englishTranslation=englishTranslation.strip('\\n').strip('1.').strip()\n",
    "print (englishTranslation)"
   ]
  },
  {
   "cell_type": "code",
   "execution_count": 32,
   "metadata": {
    "collapsed": true
   },
   "outputs": [],
   "source": [
    "englishTranslation = soup.find_all(class_=['editable'])"
   ]
  },
  {
   "cell_type": "code",
   "execution_count": 33,
   "metadata": {},
   "outputs": [
    {
     "name": "stdout",
     "output_type": "stream",
     "text": [
      "[<ul class=\"editable\">\n",
      "<li>\n",
      "<div class=\"nr handle\">1.</div>\n",
      "<div class=\"content\"><span class=\"editable\">physics</span></div>\n",
      "</li>\n",
      "</ul>, <span class=\"editable\">physics</span>, <span class=\"editable\">фи́зика</span>, <span class=\"editable\">фи́зики</span>, <span class=\"editable\">фи́зики</span>, <span class=\"editable\">фи́зик</span>, <span class=\"editable\">фи́зике</span>, <span class=\"editable\">фи́зикам</span>, <span class=\"editable\">фи́зику</span>, <span class=\"editable\">фи́зики</span>, <span class=\"editable\">фи́зикой<br/> фи́зикою</span>, <span class=\"editable\">фи́зиками</span>, <span class=\"editable\">фи́зике</span>, <span class=\"editable\">фи́зиках</span>]\n"
     ]
    }
   ],
   "source": [
    "print (englishTranslation)"
   ]
  },
  {
   "cell_type": "code",
   "execution_count": null,
   "metadata": {
    "collapsed": true
   },
   "outputs": [],
   "source": []
  }
 ],
 "metadata": {
  "kernelspec": {
   "display_name": "Python 3",
   "language": "python",
   "name": "python3"
  },
  "language_info": {
   "codemirror_mode": {
    "name": "ipython",
    "version": 3
   },
   "file_extension": ".py",
   "mimetype": "text/x-python",
   "name": "python",
   "nbconvert_exporter": "python",
   "pygments_lexer": "ipython3",
   "version": "3.6.3"
  }
 },
 "nbformat": 4,
 "nbformat_minor": 2
}
