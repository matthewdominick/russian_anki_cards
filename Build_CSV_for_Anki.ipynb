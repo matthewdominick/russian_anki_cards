{
 "cells": [
  {
   "cell_type": "code",
   "execution_count": 5,
   "metadata": {
    "collapsed": true
   },
   "outputs": [],
   "source": [
    "import csv\n",
    "import requests\n",
    "from bs4 import BeautifulSoup\n",
    "import re"
   ]
  },
  {
   "cell_type": "code",
   "execution_count": 7,
   "metadata": {
    "collapsed": true
   },
   "outputs": [],
   "source": [
    "filename = 'Lesson2_Page3_nouns.csv'"
   ]
  },
  {
   "cell_type": "code",
   "execution_count": 8,
   "metadata": {
    "collapsed": true
   },
   "outputs": [],
   "source": [
    "# Returns list of Russian Words from CSV file\n",
    "def extractRussianWordsFromCSV(filename):\n",
    "    russian_words=[]\n",
    "    with open(filename, newline='') as csvfile:\n",
    "        word_reader = csv.reader(csvfile, delimiter=' ', quotechar='|')\n",
    "        for row in word_reader:\n",
    "            #print(''.join(row))\n",
    "            russian_words.extend(row)\n",
    "            #print(len(row))\n",
    "            #print(row)\n",
    "    return russian_words"
   ]
  },
  {
   "cell_type": "code",
   "execution_count": 9,
   "metadata": {},
   "outputs": [
    {
     "name": "stdout",
     "output_type": "stream",
     "text": [
      "памятник\n"
     ]
    }
   ],
   "source": [
    "russian_words = extractRussianWordsFromCSV(filename)\n",
    "print (russian_words[0])"
   ]
  },
  {
   "cell_type": "code",
   "execution_count": 10,
   "metadata": {},
   "outputs": [
    {
     "name": "stdout",
     "output_type": "stream",
     "text": [
      "памятник,monument - memorial - tombstone - statue\n",
      "галерея,gallery\n",
      "музей,museum\n",
      "выставка,exhibition - show - exposition - display - show-window - window\n",
      "церковь,church\n",
      "школа,school - schoolhouse\n",
      "университет,university\n",
      "факультет,faculty - department\n",
      "кафедра,chair - rostrum - pulpit - department - sub-faculty\n",
      "профессор,professor\n",
      "студентка,female student\n",
      "студент,student\n",
      "занятие,occupation - pursuit - employment - work - business - seizure - studies - lessons - pastime\n",
      "лекция,lecture\n",
      "библиотека,library - lending library - reference library\n",
      "столовая,dining-room - dining-hall - mess\n",
      "общежитие,dormitory - hostel - society- community - communal life\n",
      "математика,mathematics\n",
      "литература,literature\n",
      "химия,chemistry\n",
      "лингвистика,linguistics\n",
      "история,history - story - event\n",
      "искусство,art - skill - proficiency - craftsmanship\n",
      "физика,physics\n"
     ]
    }
   ],
   "source": [
    "i=0\n",
    "target = open('output.csv', 'w')\n",
    "target.truncate() #delete contents of file if it exists\n",
    "for words in russian_words:\n",
    "    url = 'https://en.openrussian.org/ru/' + str(russian_words[i])\n",
    "    #print(url)\n",
    "    page = requests.get(url)\n",
    "    # Need to do some error checking if the word is not on openrussian, 200 is good, else bad\n",
    "    #print (page.status_code)\n",
    "    soup = BeautifulSoup(page.text, 'html.parser')\n",
    "    englishTranslation = soup.find_all(class_=['editable'])[0].getText()\n",
    "    englishTranslation=englishTranslation.strip('\\n').strip('1.').strip()\n",
    "    englishTranslation = englishTranslation.replace(\",\", \" -\")\n",
    "    print (russian_words[i]+\",\"+englishTranslation)\n",
    "    target.write(russian_words[i]+\",\"+englishTranslation)\n",
    "    target.write(\"\\n\")\n",
    "    i=i+1"
   ]
  },
  {
   "cell_type": "code",
   "execution_count": 11,
   "metadata": {
    "collapsed": true
   },
   "outputs": [],
   "source": [
    "target.close()"
   ]
  },
  {
   "cell_type": "code",
   "execution_count": 12,
   "metadata": {
    "collapsed": true
   },
   "outputs": [],
   "source": [
    "# Need to do some error checking if the word is not on openrussian, 200 is good, else bad\n",
    "page.status_code\n",
    "#\n",
    "soup = BeautifulSoup(page.text, 'html.parser')"
   ]
  },
  {
   "cell_type": "code",
   "execution_count": 18,
   "metadata": {},
   "outputs": [
    {
     "name": "stdout",
     "output_type": "stream",
     "text": [
      "https://openrussian.org/audio-shtooka/физика.mp3\n"
     ]
    }
   ],
   "source": [
    "audioURL = soup.find('audio').get('src')\n",
    "#need to strip audio url\n",
    "print (str(audioURL))\n",
    "#re.findall(r'(https?://\\S+)', audioURL)\n"
   ]
  },
  {
   "cell_type": "code",
   "execution_count": null,
   "metadata": {
    "collapsed": true
   },
   "outputs": [],
   "source": [
    "#It just so happens the first (zeroth) editable block is the translation\n",
    "englishTranslation = soup.find_all(class_=['editable'])[0].getText()"
   ]
  },
  {
   "cell_type": "code",
   "execution_count": null,
   "metadata": {
    "collapsed": true
   },
   "outputs": [],
   "source": [
    " #This is not elegant and will not handle more than one translation.  \n",
    "englishTranslation=englishTranslation.strip('\\n').strip('1.').strip()\n",
    "print (englishTranslation)"
   ]
  },
  {
   "cell_type": "code",
   "execution_count": 32,
   "metadata": {
    "collapsed": true
   },
   "outputs": [],
   "source": []
  },
  {
   "cell_type": "code",
   "execution_count": 33,
   "metadata": {},
   "outputs": [
    {
     "name": "stdout",
     "output_type": "stream",
     "text": [
      "[<ul class=\"editable\">\n",
      "<li>\n",
      "<div class=\"nr handle\">1.</div>\n",
      "<div class=\"content\"><span class=\"editable\">physics</span></div>\n",
      "</li>\n",
      "</ul>, <span class=\"editable\">physics</span>, <span class=\"editable\">фи́зика</span>, <span class=\"editable\">фи́зики</span>, <span class=\"editable\">фи́зики</span>, <span class=\"editable\">фи́зик</span>, <span class=\"editable\">фи́зике</span>, <span class=\"editable\">фи́зикам</span>, <span class=\"editable\">фи́зику</span>, <span class=\"editable\">фи́зики</span>, <span class=\"editable\">фи́зикой<br/> фи́зикою</span>, <span class=\"editable\">фи́зиками</span>, <span class=\"editable\">фи́зике</span>, <span class=\"editable\">фи́зиках</span>]\n"
     ]
    }
   ],
   "source": []
  },
  {
   "cell_type": "code",
   "execution_count": 3,
   "metadata": {},
   "outputs": [],
   "source": [
    "audioURL = 'https://en.openrussian.org/read/ru/кафедра'"
   ]
  },
  {
   "cell_type": "code",
   "execution_count": 6,
   "metadata": {},
   "outputs": [],
   "source": [
    "r = requests.get(audioURL)\n",
    "with open('test.mp3', 'wb') as f:  \n",
    "    f.write(r.content)"
   ]
  },
  {
   "cell_type": "code",
   "execution_count": null,
   "metadata": {
    "collapsed": true
   },
   "outputs": [],
   "source": []
  }
 ],
 "metadata": {
  "kernelspec": {
   "display_name": "Python 3",
   "language": "python",
   "name": "python3"
  },
  "language_info": {
   "codemirror_mode": {
    "name": "ipython",
    "version": 3
   },
   "file_extension": ".py",
   "mimetype": "text/x-python",
   "name": "python",
   "nbconvert_exporter": "python",
   "pygments_lexer": "ipython3",
   "version": "3.6.3"
  }
 },
 "nbformat": 4,
 "nbformat_minor": 2
}
